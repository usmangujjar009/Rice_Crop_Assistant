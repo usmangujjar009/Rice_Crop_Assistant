{
 "cells": [
  {
   "cell_type": "code",
   "execution_count": null,
   "id": "7bf6be57-60df-4f2e-98bf-7eebf06fc51c",
   "metadata": {},
   "outputs": [],
   "source": []
  }
 ],
 "metadata": {
  "kernelspec": {
   "display_name": "",
   "name": ""
  },
  "language_info": {
   "name": ""
  }
 },
 "nbformat": 4,
 "nbformat_minor": 5
}
